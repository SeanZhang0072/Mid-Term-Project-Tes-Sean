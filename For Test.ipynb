{
 "cells": [
  {
   "cell_type": "markdown",
   "id": "129c7652-6408-43c3-a536-f8f5935b0ed1",
   "metadata": {},
   "source": [
    "For Test"
   ]
  },
  {
   "cell_type": "code",
   "execution_count": 1,
   "id": "3112cecb-df7a-4381-9f8e-081a0042ddfc",
   "metadata": {
    "tags": []
   },
   "outputs": [],
   "source": [
    "# ??"
   ]
  },
  {
   "cell_type": "code",
   "execution_count": null,
   "id": "580793d7-ca7e-4662-a74b-c828cc309791",
   "metadata": {},
   "outputs": [],
   "source": []
  }
 ],
 "metadata": {
  "kernelspec": {
   "display_name": "Python 3 (ipykernel)",
   "language": "python",
   "name": "python3"
  },
  "language_info": {
   "codemirror_mode": {
    "name": "ipython",
    "version": 3
   },
   "file_extension": ".py",
   "mimetype": "text/x-python",
   "name": "python",
   "nbconvert_exporter": "python",
   "pygments_lexer": "ipython3",
   "version": "3.10.9"
  }
 },
 "nbformat": 4,
 "nbformat_minor": 5
}
